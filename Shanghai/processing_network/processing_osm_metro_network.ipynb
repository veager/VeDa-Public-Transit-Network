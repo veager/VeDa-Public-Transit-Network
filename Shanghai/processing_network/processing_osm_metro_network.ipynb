{
 "cells": [
  {
   "cell_type": "code",
   "id": "initial_id",
   "metadata": {
    "collapsed": true,
    "ExecuteTime": {
     "end_time": "2024-08-30T09:29:59.171935Z",
     "start_time": "2024-08-30T09:29:59.158032Z"
    }
   },
   "source": [
    "from pathlib import Path\n",
    "\n",
    "import pandas as pd\n",
    "\n",
    "data_folder = Path.cwd().parent"
   ],
   "outputs": [],
   "execution_count": 10
  },
  {
   "metadata": {
    "ExecuteTime": {
     "end_time": "2024-08-30T09:29:59.546827Z",
     "start_time": "2024-08-30T09:29:59.535876Z"
    }
   },
   "cell_type": "code",
   "source": [
    "import pyproj\n",
    "import geopandas as gpd\n",
    "\n",
    "# EPSG:32651 - WGS 84 / UTM zone 51N\n",
    "# What UTM Zone am I in ? : https://mangomap.com/robertyoung/maps/69585/what-utm-zone-am-i-in-#\n",
    "projected_crs = pyproj.CRS('EPSG:32651')"
   ],
   "id": "bbf3c69f6ac535b9",
   "outputs": [],
   "execution_count": 11
  },
  {
   "metadata": {
    "ExecuteTime": {
     "end_time": "2024-08-30T09:31:21.925682Z",
     "start_time": "2024-08-30T09:31:19.581967Z"
    }
   },
   "cell_type": "code",
   "source": [
    "path = data_folder / 'metro_network_osm/osm_raw_20240830/osm_raw_node.shp'\n",
    "node = gpd.read_file(path) \\\n",
    "    .dropna(subset='geometry') \\\n",
    "    .to_crs(projected_crs) \\\n",
    "    [['name_zh', 'name_en', 'name', 'geometry']]\n",
    "\n",
    "\n",
    "path = data_folder / 'metro_network_osm/osm_raw_20240830/osm_raw_line.shp'\n",
    "line = gpd.read_file(path) \\\n",
    "    .dropna(subset='geometry') \\\n",
    "    .to_crs(projected_crs) \\\n",
    "    [['name_zh', 'name_en', 'name', 'geometry']]"
   ],
   "id": "17c3215c8aa4bd5e",
   "outputs": [],
   "execution_count": 18
  },
  {
   "metadata": {},
   "cell_type": "code",
   "outputs": [],
   "execution_count": null,
   "source": "",
   "id": "44cd525ffb82043f"
  }
 ],
 "metadata": {
  "kernelspec": {
   "display_name": "Python 3",
   "language": "python",
   "name": "python3"
  },
  "language_info": {
   "codemirror_mode": {
    "name": "ipython",
    "version": 2
   },
   "file_extension": ".py",
   "mimetype": "text/x-python",
   "name": "python",
   "nbconvert_exporter": "python",
   "pygments_lexer": "ipython2",
   "version": "2.7.6"
  }
 },
 "nbformat": 4,
 "nbformat_minor": 5
}
