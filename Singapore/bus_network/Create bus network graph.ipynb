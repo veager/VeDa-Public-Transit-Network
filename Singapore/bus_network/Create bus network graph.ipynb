{
 "cells": [
  {
   "cell_type": "code",
   "id": "initial_id",
   "metadata": {
    "collapsed": true,
    "ExecuteTime": {
     "end_time": "2024-09-21T09:12:29.911826Z",
     "start_time": "2024-09-21T09:12:29.899615Z"
    }
   },
   "source": [
    "\n",
    "import tqdm\n",
    "\n",
    "import numpy as np\n",
    "import pandas as pd\n",
    "import geopandas as gpd\n",
    "\n",
    "import networkx as nx\n"
   ],
   "outputs": [],
   "execution_count": 4
  },
  {
   "metadata": {
    "ExecuteTime": {
     "end_time": "2024-09-21T09:12:30.083691Z",
     "start_time": "2024-09-21T09:12:29.924567Z"
    }
   },
   "cell_type": "code",
   "source": [
    "# Bus location\n",
    "bus_loc = pd.read_csv('original_data/bus_stop_2024-09-19.csv',\n",
    "        dtype={'BusStopCode': str}) \\\n",
    "    .rename(columns={\n",
    "        'BusStopCode'  : 'bus_stop_code',\n",
    "        'RoadName'     : 'road_name',\n",
    "        'Description'  : 'stop_name',\n",
    "        'Latitude'     : 'lat',\n",
    "        'Longitude'    : 'lon'})\n",
    "\n",
    "# to GeoDataFrame\n",
    "bus_loc = gpd.GeoDataFrame(\n",
    "        bus_loc, \n",
    "        geometry = gpd.points_from_xy(x=bus_loc['lon'], y=bus_loc['lat']),\n",
    "        crs = 'EPSG:4326') \\\n",
    "    .to_crs('EPSG:3414') \\\n",
    "    .assign(\n",
    "        x = lambda g: g['geometry'].x, \n",
    "        y = lambda g: g['geometry'].y)\n",
    "print('\\nShape of bus location:', bus_loc.shape,\n",
    "      '\\nNumber of bus stop:', bus_loc['bus_stop_code'].nunique(),)\n",
    "\n",
    "\n",
    "# Bus route\n",
    "bus_route = pd.read_csv('original_data/bus_route_2024-09-19.csv', \n",
    "        dtype={'BusStopCode': str, 'ServiceNo': str, 'StopSequence' : int}) \\\n",
    "    .rename(columns={\n",
    "        'Operator'     : 'bus_operator',\n",
    "        'BusStopCode'  : 'bus_stop_code',\n",
    "        'ServiceNo'    : 'bus_service_no',\n",
    "        'StopSequence' : 'order_no',\n",
    "        'Direction'    : 'route_direction',\n",
    "        'Distance'     : 'stop_spacing' })\n",
    "print('\\nShape of bus route:', bus_route.shape)\n",
    "\n",
    "\n",
    "# bus_service = pd.read_csv('original_data/bus_service_2024-09-19.csv',\n",
    "#                           dtype={'BusStopCode': str, 'OriginCode': str, 'DestinationCode' : str})"
   ],
   "id": "705129bd313a614c",
   "outputs": [
    {
     "name": "stdout",
     "output_type": "stream",
     "text": [
      "\n",
      "Shape of bus location: (5136, 8) \n",
      "Number of bus stop: 5136\n",
      "\n",
      "Shape of bus route: (25450, 12)\n"
     ]
    }
   ],
   "execution_count": 5
  },
  {
   "metadata": {
    "ExecuteTime": {
     "end_time": "2024-09-21T09:12:37.621207Z",
     "start_time": "2024-09-21T09:12:30.088619Z"
    }
   },
   "cell_type": "code",
   "source": [
    "from Singapore.bus_network._historical_project.codes.utils import create_graph_from_dataframe\n",
    "\n",
    "data = bus_route.merge(bus_loc, on='bus_stop_code')\n",
    "\n",
    "node_id_col = 'bus_stop_code'\n",
    "order_col = 'order_no'\n",
    "mline_id_col = ['bus_operator', 'bus_service_no', 'route_direction']\n",
    "node_attr_list = ['bus_stop_code', 'x', 'y', 'lat', 'lon', 'road_name', 'stop_name']\n",
    "edge_attr_list = ['bus_service_no', 'bus_operator', 'route_direction', 'stop_spacing']\n",
    "\n",
    "\n",
    "# add nodes\n",
    "# graph = graph_add_nodes_from_dataframe(graph, bus_loc, node_id_col, node_attr_list)\n",
    "graph = create_graph_from_dataframe(\n",
    "    data = data,\n",
    "    node_id_col = node_id_col,\n",
    "    order_col = order_col,\n",
    "    mline_id_col = mline_id_col,\n",
    "    node_attr_list = node_attr_list,\n",
    "    edge_attr_list = edge_attr_list,\n",
    "    space='l')\n",
    "\n",
    "# processing edge attributes\n",
    "# merge edge attributes, list -> string\n",
    "for edge_attr in tqdm.tqdm(['bus_service_no', 'bus_operator', 'route_direction'], desc='Merge edge attributes...'):\n",
    "    for edge in graph.edges():\n",
    "        _edge_attr_val = list(set(graph.edges[edge][edge_attr]))\n",
    "        _edge_attr_val.sort()\n",
    "        _edge_attr_val = list(map(str, _edge_attr_val))\n",
    "        graph.edges[edge][edge_attr] = ','.join(_edge_attr_val)\n",
    "\n",
    "# merge edge attributes, 'stop_spacing'\n",
    "for edge in graph.edges():\n",
    "    graph.edges[edge]['stop_spacing'] = np.mean(graph.edges[edge]['stop_spacing'])\n",
    "\n",
    "\n",
    "# save bus network graph\n",
    "nx.write_gexf(graph, 'bus_network_2024-09-19.gexf')\n",
    "nx.write_gml(graph, 'bus_network_2024-09-19.gml')"
   ],
   "id": "d358e9cc31cfde2",
   "outputs": [
    {
     "name": "stderr",
     "output_type": "stream",
     "text": [
      "Creating graph...: 100%|██████████| 721/721 [00:05<00:00, 120.70it/s]\n",
      "Merge edge attributes...: 100%|██████████| 3/3 [00:00<00:00, 40.99it/s]\n"
     ]
    }
   ],
   "execution_count": 6
  }
 ],
 "metadata": {
  "kernelspec": {
   "display_name": "Python 3",
   "language": "python",
   "name": "python3"
  },
  "language_info": {
   "codemirror_mode": {
    "name": "ipython",
    "version": 2
   },
   "file_extension": ".py",
   "mimetype": "text/x-python",
   "name": "python",
   "nbconvert_exporter": "python",
   "pygments_lexer": "ipython2",
   "version": "2.7.6"
  }
 },
 "nbformat": 4,
 "nbformat_minor": 5
}
