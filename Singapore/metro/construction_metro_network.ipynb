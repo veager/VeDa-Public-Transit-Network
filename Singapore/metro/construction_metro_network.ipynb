{
 "cells": [
  {
   "cell_type": "code",
   "id": "initial_id",
   "metadata": {
    "collapsed": true,
    "ExecuteTime": {
     "end_time": "2024-07-19T06:05:49.089161Z",
     "start_time": "2024-07-19T06:05:49.081232Z"
    }
   },
   "source": [
    "import numpy as np\n",
    "import pandas as pd"
   ],
   "outputs": [],
   "execution_count": 122
  },
  {
   "metadata": {
    "ExecuteTime": {
     "end_time": "2024-07-19T06:06:06.207546Z",
     "start_time": "2024-07-19T06:06:06.164090Z"
    }
   },
   "cell_type": "code",
   "source": [
    "import datetime\n",
    "\n",
    "def _apply_operation_state(x, current_date, open_col, close_col, uncompleted_str):\n",
    "    '''\n",
    "    based the relationship between current date and close data\n",
    "    '''\n",
    "    # opening date\n",
    "    open_dt = x[open_col]\n",
    "    if open_dt == uncompleted_str:\n",
    "        # open_dt = '9999-12-31'\n",
    "        open_dt = datetime.datetime(year=9999, month=12, day=30)\n",
    "    if not isinstance(open_dt, datetime.datetime):\n",
    "        open_dt = datetime.datetime.strptime(open_dt, '%Y-%m-%d')\n",
    "    \n",
    "    # closed date\n",
    "    close_dt = x[close_col]\n",
    "    if pd.isna(close_dt):\n",
    "        # close_dt = '9999-12-31'\n",
    "        close_dt = datetime.datetime(year=9999, month=12, day=31)\n",
    "    if not isinstance(close_dt, datetime.datetime):\n",
    "        close_dt = datetime.datetime.strptime(close_dt, '%Y-%m-%d')\n",
    "    \n",
    "    assert close_dt > open_dt, 'The closed date must be greater than the opening date'\n",
    "    \n",
    "    if current_date < open_dt:\n",
    "        state = 'not open'\n",
    "    elif current_date < close_dt:\n",
    "        state = 'in operation'\n",
    "    else:\n",
    "        state = 'closed'\n",
    "        \n",
    "    return state  \n",
    "# ===================================================================================================\n",
    "\n",
    "def extract_in_operation_metro_line(\n",
    "    data, \n",
    "    opening_col = None, closed_col = None, \n",
    "    uncompleted_str = 'u/c',\n",
    "    current_date = 'now'\n",
    "):\n",
    "    '''\n",
    "    extract current opening station\n",
    "    \n",
    "    params:\n",
    "    ---\n",
    "    uncompleted_str (str) :\n",
    "        indicate the uncompleted or unopening metro station in the 'opening_col' columns\n",
    "    current_date (None or str):\n",
    "        None : now consider the date restriction\n",
    "        'now' : datetime.datetime.now().strftime(\"%Y-%m-%d\")\n",
    "        'YYYY-MM-DD' : i.e., '2024-07-19'\n",
    "    '''\n",
    "    if current_date is None:\n",
    "        pass\n",
    "    elif current_date == 'now':\n",
    "        current_date = datetime.datetime.now()\n",
    "    else:\n",
    "        current_date = datetime.datetime.strptime(current_date, '%Y-%m-%d')\n",
    "    \n",
    "    # select based on closing date and current date\n",
    "    if current_date is None:\n",
    "        pass\n",
    "    else:\n",
    "        if not(closed_col is None):\n",
    "            data['operation_state'] = data.apply(_apply_operation_state, args=(current_date, opening_col, closed_col, uncompleted_str), axis='columns')\n",
    "    \n",
    "    # drop uncompleted columns\n",
    "    data = data.query('operation_state == \"in operation\"')\n",
    "    \n",
    "    return data\n",
    "# ======================================================================================\n",
    "def load_all_station_info(excel_path):\n",
    "    '''\n",
    "    the station_id\n",
    "    '''\n",
    "    line_info = pd.read_excel(excel_path, sheet_name='line_info')\n",
    "\n",
    "    rename_dict = {\n",
    "        'Line Name'     : 'line_name',\n",
    "        'Sequence'      : 'order',\n",
    "        'Station Code'  : 'stn_code',\n",
    "        'Station Name'  : 'stn_name',\n",
    "        'Opening Date'  : 'open_dt',\n",
    "        'Closed Date'   : 'close_dt' }\n",
    "    \n",
    "    station_li = []\n",
    "    \n",
    "    for sheet_name in line_info['sheet_name'].unique().tolist():\n",
    "        # load station list\n",
    "        station = pd.read_excel(excel_path, sheet_name=sheet_name) \\\n",
    "                    .rename(columns=rename_dict) \\\n",
    "                    .assign(line_code = sheet_name)\n",
    "        \n",
    "        # extract in-operation stations\n",
    "        station = extract_in_operation_metro_line(\n",
    "                station,\n",
    "                opening_col = 'open_dt', closed_col = 'close_dt',\n",
    "                uncompleted_str = 'u/c',\n",
    "                current_date = 'now') \\\n",
    "        \n",
    "        station_li.append(station)\n",
    "\n",
    "    station = pd.concat(station_li, axis=0, ignore_index=True)\n",
    "    \n",
    "    return station"
   ],
   "id": "277816d80fecf515",
   "outputs": [],
   "execution_count": 124
  },
  {
   "metadata": {
    "ExecuteTime": {
     "end_time": "2024-07-19T06:06:23.840414Z",
     "start_time": "2024-07-19T06:06:22.631053Z"
    }
   },
   "cell_type": "code",
   "source": [
    "excel_path = r'Singapore/metro/station_line_list/station_list.xlsx'\n",
    "line_info = pd.read_excel(excel_path, sheet_name='line_info')\n",
    "\n",
    "station = load_all_station_info(excel_path) \\\n",
    "\n",
    "station_transfer = station \\\n",
    "    .assign(stn_name = lambda x : x['stn_name'].str.strip()) \\\n",
    "    .groupby('stn_name', as_index=False) \\\n",
    "    .agg(stn_code = ('stn_code', lambda x : '-'.join(list(set(x)))), \n",
    "         line_number = ('stn_code', 'count')) \\\n",
    "    .query('line_number > 1') \\\n",
    "    .drop_duplicates()\n",
    "    # .merge(station[['order', 'stn_name', 'stn_code', 'line_name', 'line_code']], on='stn_name', how='left') \\\n",
    "    # .sort_values(['line_code', 'order'])"
   ],
   "id": "c64fac011c258640",
   "outputs": [],
   "execution_count": 126
  },
  {
   "metadata": {
    "ExecuteTime": {
     "end_time": "2024-07-19T06:06:42.920843Z",
     "start_time": "2024-07-19T06:06:42.907966Z"
    }
   },
   "cell_type": "code",
   "source": "station_transfer.to_csv('transfer_station.csv')",
   "id": "2a23b1bfeca464",
   "outputs": [],
   "execution_count": 127
  },
  {
   "metadata": {
    "ExecuteTime": {
     "end_time": "2024-07-19T04:12:15.851283Z",
     "start_time": "2024-07-19T04:12:15.839369Z"
    }
   },
   "cell_type": "code",
   "source": "",
   "id": "d5558b7d262d8402",
   "outputs": [],
   "execution_count": 62
  },
  {
   "metadata": {},
   "cell_type": "code",
   "outputs": [],
   "execution_count": null,
   "source": "",
   "id": "eade93c88423c41e"
  }
 ],
 "metadata": {
  "kernelspec": {
   "display_name": "Python 3",
   "language": "python",
   "name": "python3"
  },
  "language_info": {
   "codemirror_mode": {
    "name": "ipython",
    "version": 2
   },
   "file_extension": ".py",
   "mimetype": "text/x-python",
   "name": "python",
   "nbconvert_exporter": "python",
   "pygments_lexer": "ipython2",
   "version": "2.7.6"
  }
 },
 "nbformat": 4,
 "nbformat_minor": 5
}
