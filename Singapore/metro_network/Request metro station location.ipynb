{
 "cells": [
  {
   "cell_type": "code",
   "id": "initial_id",
   "metadata": {
    "collapsed": true,
    "ExecuteTime": {
     "end_time": "2024-09-20T08:26:16.398074Z",
     "start_time": "2024-09-20T08:26:16.385124Z"
    }
   },
   "source": [
    "import pathlib\n",
    "\n",
    "import pandas as pd\n",
    "import geopandas as gpd"
   ],
   "outputs": [],
   "execution_count": 20
  },
  {
   "metadata": {
    "ExecuteTime": {
     "end_time": "2024-09-20T08:26:19.133954Z",
     "start_time": "2024-09-20T08:26:17.013281Z"
    }
   },
   "cell_type": "code",
   "source": [
    "from codes.utils.load_data.load_data_metro import load_metro_station_list_v1, preprocess_metro_station\n",
    "\n",
    "excel_path = pathlib.Path('station_line_list/station_list.xlsx')\n",
    "line_info = pd.read_excel(excel_path, sheet_name='line_info')\n",
    "\n",
    "# Load metro station data\n",
    "sta_df = load_metro_station_list_v1(excel_path)\n",
    "# Preprocess metro station data\n",
    "sta_df = preprocess_metro_station(sta_df, time_status='current')\n",
    "\n",
    "\n",
    "# Search string for OneMap API\n",
    "sta_df['search_val'] = sta_df.apply(\n",
    "    lambda x : '{0} {1} Station ({2})'.format(x['station_name'], x['line_type'], x['station_code']).upper(), axis=1)\n",
    "\n",
    "print('\\nShape of data:', sta_df.shape)"
   ],
   "id": "9871812531db3507",
   "outputs": [
    {
     "name": "stderr",
     "output_type": "stream",
     "text": [
      "Loading data...: 14it [00:01,  7.51it/s]"
     ]
    },
    {
     "name": "stdout",
     "output_type": "stream",
     "text": [
      "\n",
      "Shape of data: (215, 24)\n"
     ]
    },
    {
     "name": "stderr",
     "output_type": "stream",
     "text": [
      "\n",
      "C:\\Users\\Wei Zhou\\Documents\\zhouwei file\\Github-Project\\VeDa-Public-Transit-Network\\codes\\utils\\load_data\\load_data_metro.py:116: FutureWarning: Downcasting object dtype arrays on .fillna, .ffill, .bfill is deprecated and will change in a future version. Call result.infer_objects(copy=False) instead. To opt-in to the future behavior, set `pd.set_option('future.no_silent_downcasting', True)`\n",
      "  data['closed_date'] = data['closed_date'].infer_objects(copy=True).fillna(pd.Timestamp.max)\n"
     ]
    }
   ],
   "execution_count": 21
  },
  {
   "metadata": {},
   "cell_type": "markdown",
   "source": "# 1. Metro station location",
   "id": "766514f7536f49b2"
  },
  {
   "metadata": {},
   "cell_type": "markdown",
   "source": [
    "#### (1) OneMap API\n",
    "\n",
    "- Search string format: 'XXX MRT|LRT Station (XXX)'\n",
    "\n",
    "    - Example: CHOA CHU KANG LRT STATION (BP1)"
   ],
   "id": "19b2e1992a4996da"
  },
  {
   "metadata": {
    "ExecuteTime": {
     "end_time": "2024-09-20T07:29:24.171641Z",
     "start_time": "2024-09-20T07:28:54.292277Z"
    }
   },
   "cell_type": "code",
   "source": [
    "import time\n",
    "from codes.utils.request_data.one_map_token import access_token\n",
    "from codes.utils.request_data.request_data_onemap import address_search, request_address_from_list\n",
    "\n",
    "# Request location data from OneMap API\n",
    "sta_search = sta_df['search_val'].unique().tolist()\n",
    "sta_loc = request_address_from_list(sta_search, sleep_time=0.05)\n",
    "sta_loc = pd.DataFrame(sta_loc) \\\n",
    "            .drop_duplicates(subset=['SEARCHVAL'])\n",
    "\n",
    "\n",
    "# \"search value\" and \"building\" name are inconsistent\n",
    "print('\\nShape of data:', sta_loc.shape,\n",
    "      '\\nMismatched data:', sta_loc[sta_loc['SEARCHVAL'] != sta_loc['BUILDING']])\n",
    "\n",
    "\n",
    "# merge location info\n",
    "sta_loc = sta_df.merge(sta_loc, left_on='search_val', right_on='SEARCHVAL', how='left') \\\n",
    "    .sort_values(by=['sheet_name', 'no'])\n",
    "\n",
    "# Unavailable location data\n",
    "print('\\nUnavailable location data:', sta_loc[sta_loc['SEARCHVAL'].isnull()])\n",
    "\n",
    "# save location data\n",
    "# sta_loc.to_csv('station_line_list/station_location.csv', index=False)"
   ],
   "id": "6d2246ff2043c62c",
   "outputs": [
    {
     "name": "stderr",
     "output_type": "stream",
     "text": [
      "Requesting data: 100%|██████████| 228/228 [00:29<00:00,  7.65it/s]\n"
     ]
    },
    {
     "name": "stdout",
     "output_type": "stream",
     "text": [
      "\n",
      "Shape of data: (228, 10) \n",
      "Mismatched data: Empty DataFrame\n",
      "Columns: [SEARCHVAL, BLK_NO, ROAD_NAME, BUILDING, ADDRESS, POSTAL, X, Y, LATITUDE, LONGITUDE]\n",
      "Index: []\n",
      "\n",
      "Unavailable location data:      no station_code        station_name  build_date         opening_date  \\\n",
      "73   29         CC29        HarbourFront         NaN  2011-10-08 00:00:00   \n",
      "78    2          CE1            Bayfront         NaN  2012-01-14 00:00:00   \n",
      "151   1           CG         Tanah Merah         NaN  1989-11-04 00:00:00   \n",
      "83    4          DT4                Hume         NaN                  u/c   \n",
      "95   16         DT16            Bayfront         NaN  2013-12-22 00:00:00   \n",
      "117  37         DT37        Sungei Bedok         NaN                  u/c   \n",
      "130  13         EW13           City Hall         NaN  1987-12-12 00:00:00   \n",
      "131  14         EW14       Raffles Place         NaN  1987-12-12 00:00:00   \n",
      "141  24         EW24         Jurong East         NaN  1988-11-05 00:00:00   \n",
      "154   1          NE1        HarbourFront         NaN  2003-06-20 00:00:00   \n",
      "155   2          NE2                 NaN         NaN                  u/c   \n",
      "172  18        NE18      Punggol Coast\\t         NaN                  u/c   \n",
      "173   1          NS1         Jurong East         NaN  1988-11-05 00:00:00   \n",
      "176   4         NS3A           Brickland         NaN                  u/c   \n",
      "179   7          NS6        Sungei Kadut         NaN                  u/c   \n",
      "200  26         NS25           City Hall         NaN  1987-12-12 00:00:00   \n",
      "201  27         NS26       Raffles Place         NaN  1987-12-12 00:00:00   \n",
      "226  23        TE22A  Founders' Memorial         NaN                  u/c   \n",
      "227  24         TE23          Tanjong Rh         NaN  2024-06-23 00:00:00   \n",
      "236  32         TE31        Sungei Bedok         NaN                  u/c   \n",
      "\n",
      "                      closed_date sheet_name                line_name  \\\n",
      "73  2262-04-11 23:47:16.854775807         CC              Circle Line   \n",
      "78  2262-04-11 23:47:16.854775807         CE    Circle Line Extension   \n",
      "151 2262-04-11 23:47:16.854775807         CG         Changi Extension   \n",
      "83  2262-04-11 23:47:16.854775807         DT            Downtown Line   \n",
      "95  2262-04-11 23:47:16.854775807         DT            Downtown Line   \n",
      "117 2262-04-11 23:47:16.854775807         DT            Downtown Line   \n",
      "130 2262-04-11 23:47:16.854775807         EW           East-West Line   \n",
      "131 2262-04-11 23:47:16.854775807         EW           East-West Line   \n",
      "141 2262-04-11 23:47:16.854775807         EW           East-West Line   \n",
      "154 2262-04-11 23:47:16.854775807         NE          North East Line   \n",
      "155 2262-04-11 23:47:16.854775807         NE          North East Line   \n",
      "172 2262-04-11 23:47:16.854775807         NE          North East Line   \n",
      "173 2262-04-11 23:47:16.854775807         NS         North-South Line   \n",
      "176 2262-04-11 23:47:16.854775807         NS         North-South Line   \n",
      "179 2262-04-11 23:47:16.854775807         NS         North-South Line   \n",
      "200 2262-04-11 23:47:16.854775807         NS         North-South Line   \n",
      "201 2262-04-11 23:47:16.854775807         NS         North-South Line   \n",
      "226 2262-04-11 23:47:16.854775807         TE  Thomson-East Coast Line   \n",
      "227 2262-04-11 23:47:16.854775807         TE  Thomson-East Coast Line   \n",
      "236 2262-04-11 23:47:16.854775807         TE  Thomson-East Coast Line   \n",
      "\n",
      "    line_code line_type  ... SEARCHVAL BLK_NO ROAD_NAME BUILDING ADDRESS  \\\n",
      "73        CCL       MRT  ...       NaN    NaN       NaN      NaN     NaN   \n",
      "78        CCL       MRT  ...       NaN    NaN       NaN      NaN     NaN   \n",
      "151       EWL       MRT  ...       NaN    NaN       NaN      NaN     NaN   \n",
      "83        DTL       MRT  ...       NaN    NaN       NaN      NaN     NaN   \n",
      "95        DTL       MRT  ...       NaN    NaN       NaN      NaN     NaN   \n",
      "117       DTL       MRT  ...       NaN    NaN       NaN      NaN     NaN   \n",
      "130       EWL       MRT  ...       NaN    NaN       NaN      NaN     NaN   \n",
      "131       EWL       MRT  ...       NaN    NaN       NaN      NaN     NaN   \n",
      "141       EWL       MRT  ...       NaN    NaN       NaN      NaN     NaN   \n",
      "154       NEL       MRT  ...       NaN    NaN       NaN      NaN     NaN   \n",
      "155       NEL       MRT  ...       NaN    NaN       NaN      NaN     NaN   \n",
      "172       NEL       MRT  ...       NaN    NaN       NaN      NaN     NaN   \n",
      "173       NSL       MRT  ...       NaN    NaN       NaN      NaN     NaN   \n",
      "176       NSL       MRT  ...       NaN    NaN       NaN      NaN     NaN   \n",
      "179       NSL       MRT  ...       NaN    NaN       NaN      NaN     NaN   \n",
      "200       NSL       MRT  ...       NaN    NaN       NaN      NaN     NaN   \n",
      "201       NSL       MRT  ...       NaN    NaN       NaN      NaN     NaN   \n",
      "226       TEL       MRT  ...       NaN    NaN       NaN      NaN     NaN   \n",
      "227       TEL       MRT  ...       NaN    NaN       NaN      NaN     NaN   \n",
      "236       TEL       MRT  ...       NaN    NaN       NaN      NaN     NaN   \n",
      "\n",
      "    POSTAL    X    Y LATITUDE LONGITUDE  \n",
      "73     NaN  NaN  NaN      NaN       NaN  \n",
      "78     NaN  NaN  NaN      NaN       NaN  \n",
      "151    NaN  NaN  NaN      NaN       NaN  \n",
      "83     NaN  NaN  NaN      NaN       NaN  \n",
      "95     NaN  NaN  NaN      NaN       NaN  \n",
      "117    NaN  NaN  NaN      NaN       NaN  \n",
      "130    NaN  NaN  NaN      NaN       NaN  \n",
      "131    NaN  NaN  NaN      NaN       NaN  \n",
      "141    NaN  NaN  NaN      NaN       NaN  \n",
      "154    NaN  NaN  NaN      NaN       NaN  \n",
      "155    NaN  NaN  NaN      NaN       NaN  \n",
      "172    NaN  NaN  NaN      NaN       NaN  \n",
      "173    NaN  NaN  NaN      NaN       NaN  \n",
      "176    NaN  NaN  NaN      NaN       NaN  \n",
      "179    NaN  NaN  NaN      NaN       NaN  \n",
      "200    NaN  NaN  NaN      NaN       NaN  \n",
      "201    NaN  NaN  NaN      NaN       NaN  \n",
      "226    NaN  NaN  NaN      NaN       NaN  \n",
      "227    NaN  NaN  NaN      NaN       NaN  \n",
      "236    NaN  NaN  NaN      NaN       NaN  \n",
      "\n",
      "[20 rows x 24 columns]\n"
     ]
    }
   ],
   "execution_count": 11
  },
  {
   "metadata": {
    "ExecuteTime": {
     "end_time": "2024-09-20T08:13:59.528235Z",
     "start_time": "2024-09-20T08:13:56.067886Z"
    }
   },
   "cell_type": "code",
   "source": [
    "# research for unavailable location data\n",
    "search_val_li = sta_loc[sta_loc['SEARCHVAL'].isnull()]\n",
    "search_val_li = search_val_li.apply(\n",
    "    lambda x : '{0} {1} Station'.format(x['station_name'], x['line_type']).upper(), axis=1)\n",
    "search_val_li = search_val_li.unique().tolist()\n",
    "\n",
    "# mamually search for unavailable location data\n",
    "search_val_li.extend([\n",
    "    'HARBOURFRONT MRT STATION (NE1 / CC29)', \n",
    "    'CITY HALL MRT STATION (EW13 / NS25)',\n",
    "    'RAFFLES PLACE MRT STATION (EW14 / NS26)',\n",
    "    'JURONG EAST MRT STATION (EW24 / NS1)',\n",
    "    'PUNGGOL COAST MRT STATION (NE18)',\n",
    "    'RAFFLES PLACE MRT STATION (EW14 / NS26)',\n",
    "    'TANJONG RHU MRT STATION (TE23)',\n",
    "])\n",
    "\n",
    "sta_loc_2 = request_address_from_list(search_val_li, sleep_time=0.05)\n",
    "sta_loc_2 = pd.DataFrame(sta_loc_2)\n",
    "sta_loc_2.to_csv('station_line_list/station_location_2.csv', index=False)"
   ],
   "id": "92ea62b963945b4a",
   "outputs": [
    {
     "name": "stderr",
     "output_type": "stream",
     "text": [
      "Requesting data: 100%|██████████| 21/21 [00:03<00:00,  6.15it/s]\n"
     ]
    }
   ],
   "execution_count": 19
  },
  {
   "metadata": {},
   "cell_type": "code",
   "outputs": [],
   "execution_count": null,
   "source": "",
   "id": "a12a838442dd5b7c"
  }
 ],
 "metadata": {
  "kernelspec": {
   "display_name": "Python 3",
   "language": "python",
   "name": "python3"
  },
  "language_info": {
   "codemirror_mode": {
    "name": "ipython",
    "version": 2
   },
   "file_extension": ".py",
   "mimetype": "text/x-python",
   "name": "python",
   "nbconvert_exporter": "python",
   "pygments_lexer": "ipython2",
   "version": "2.7.6"
  }
 },
 "nbformat": 4,
 "nbformat_minor": 5
}
