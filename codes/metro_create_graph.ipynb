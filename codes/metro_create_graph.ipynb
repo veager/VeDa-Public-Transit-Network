{
 "cells": [
  {
   "cell_type": "code",
   "id": "initial_id",
   "metadata": {
    "collapsed": true,
    "ExecuteTime": {
     "end_time": "2024-09-03T03:38:00.560959Z",
     "start_time": "2024-09-03T03:37:58.454480Z"
    }
   },
   "source": [
    "from pathlib import Path\n",
    "\n",
    "import tqdm\n",
    "import pandas as pd\n",
    "import geopandas as gpd\n",
    "\n",
    "import networkx as nx\n",
    "\n",
    "import matplotlib.pyplot as plt"
   ],
   "outputs": [],
   "execution_count": 1
  },
  {
   "metadata": {},
   "cell_type": "markdown",
   "source": "# 1. Load station name list",
   "id": "3a7dcb0915dc0ecd"
  },
  {
   "metadata": {
    "ExecuteTime": {
     "end_time": "2024-09-03T02:36:19.273441Z",
     "start_time": "2024-09-03T02:36:18.793455Z"
    }
   },
   "cell_type": "code",
   "source": [
    "from utils.load_data import load_metro_station_list\n",
    "\n",
    "city = 'suzhou'\n",
    "\n",
    "data_folder = Path.cwd().parent / city\n",
    "\n",
    "# Load metro station list\n",
    "path = data_folder / f'metro_network_{city}.xlsx'\n",
    "data = load_metro_station_list(path, time_status='current')\n",
    "# drop duplicates\n",
    "# data = data.drop_duplicates(subset=['line_name', 'name'])\n",
    "# Select date\n",
    "data = data[data['opening_date'] <= '2024-06-30']\n",
    "# assign station id\n",
    "data = data.assign(station_id = lambda x : range(x.shape[0]))\n",
    "\n",
    "print('\\nShape of station list data:', data.shape,\n",
    "      '\\nShape of data after removing duplicates:', data.drop_duplicates(subset=['line_name', 'name']).shape,\n",
    "      '\\nNumber of NA values:', data.isna().sum().sum())"
   ],
   "id": "4bbbab91ccbc1a6b",
   "outputs": [
    {
     "name": "stderr",
     "output_type": "stream",
     "text": [
      "Loading data: 8it [00:00, 21.03it/s]"
     ]
    },
    {
     "name": "stdout",
     "output_type": "stream",
     "text": [
      "\n",
      "Shape of station list data: (228, 14) \n",
      "Shape of data after removing duplicates: (228, 14) \n",
      "Number of NA values: 408\n"
     ]
    },
    {
     "name": "stderr",
     "output_type": "stream",
     "text": [
      "\n"
     ]
    }
   ],
   "execution_count": 5
  },
  {
   "metadata": {
    "ExecuteTime": {
     "end_time": "2024-09-03T02:07:28.366432Z",
     "start_time": "2024-09-03T02:07:28.310035Z"
    }
   },
   "cell_type": "code",
   "source": [
    "from codes.utils.create_graph import (\n",
    "    graph_add_nodes_from_dataframe, \n",
    "    graph_add_edges_l_sapce_from_dataframe, \n",
    "    graph_add_edges_p_sapce_from_dataframe)\n",
    "\n",
    "\n",
    "# data\n",
    "line_station = data.query('line_name == \"Pujiang\"').reset_index(drop=True)\n",
    "\n",
    "# attributes\n",
    "node_id_col = 'station_id'\n",
    "node_attr = ['name', 'name_zh', 'lon', 'lat',\n",
    "             'line_name', 'line_color', 'line_cycle']\n",
    "edge_attr = ['line_name', 'line_color', 'line_cycle']\n",
    "\n",
    "# is cycle line\n",
    "cycle = line_station['line_cycle'].unique().tolist()[0]\n",
    "\n",
    "\n",
    "# L-Space\n",
    "graph = nx.Graph()\n",
    "graph = graph_add_nodes_from_dataframe(graph, line_station, node_id_col, node_attr)\n",
    "graph = graph_add_edges_l_sapce_from_dataframe(graph, line_station, node_id_col, edge_attr, cycle=cycle)\n",
    "\n",
    "# print node ids\n",
    "print('\\nL-Space representation:',\n",
    "      '\\nNumber of nodes:', graph.number_of_nodes(),\n",
    "      '\\nNumber of edges:', graph.number_of_edges(),\n",
    "      '\\nNode ids:', graph.nodes(),\n",
    "      '\\nEdge ids:', graph.edges())\n",
    "\n",
    "\n",
    "# P-Space\n",
    "graph = nx.Graph()\n",
    "graph = graph_add_nodes_from_dataframe(graph, line_station, node_id_col, node_attr)\n",
    "graph = graph_add_edges_p_sapce_from_dataframe(graph, line_station, node_id_col, edge_attr, cycle=cycle)\n",
    "\n",
    "# print node ids\n",
    "print('\\nP-Space representation:',\n",
    "      '\\nNumber of nodes:', graph.number_of_nodes(),\n",
    "      '\\nNumber of edges:', graph.number_of_edges(),\n",
    "      '\\nNode ids:', graph.nodes(),\n",
    "      '\\nEdge ids:', graph.edges())"
   ],
   "id": "1fec87bebb1d47e8",
   "outputs": [
    {
     "ename": "NameError",
     "evalue": "name 'data' is not defined",
     "output_type": "error",
     "traceback": [
      "\u001B[1;31m---------------------------------------------------------------------------\u001B[0m",
      "\u001B[1;31mNameError\u001B[0m                                 Traceback (most recent call last)",
      "Cell \u001B[1;32mIn[5], line 8\u001B[0m\n\u001B[0;32m      1\u001B[0m \u001B[38;5;28;01mfrom\u001B[39;00m \u001B[38;5;21;01mcodes\u001B[39;00m\u001B[38;5;21;01m.\u001B[39;00m\u001B[38;5;21;01mutils\u001B[39;00m\u001B[38;5;21;01m.\u001B[39;00m\u001B[38;5;21;01mcreate_graph\u001B[39;00m \u001B[38;5;28;01mimport\u001B[39;00m (\n\u001B[0;32m      2\u001B[0m     graph_add_nodes_from_dataframe, \n\u001B[0;32m      3\u001B[0m     graph_add_edges_l_sapce_from_dataframe, \n\u001B[0;32m      4\u001B[0m     graph_add_edges_p_sapce_from_dataframe)\n\u001B[0;32m      7\u001B[0m \u001B[38;5;66;03m# data\u001B[39;00m\n\u001B[1;32m----> 8\u001B[0m line_station \u001B[38;5;241m=\u001B[39m \u001B[43mdata\u001B[49m\u001B[38;5;241m.\u001B[39mquery(\u001B[38;5;124m'\u001B[39m\u001B[38;5;124mline_name == \u001B[39m\u001B[38;5;124m\"\u001B[39m\u001B[38;5;124mPujiang\u001B[39m\u001B[38;5;124m\"\u001B[39m\u001B[38;5;124m'\u001B[39m)\u001B[38;5;241m.\u001B[39mreset_index(drop\u001B[38;5;241m=\u001B[39m\u001B[38;5;28;01mTrue\u001B[39;00m)\n\u001B[0;32m     10\u001B[0m \u001B[38;5;66;03m# attributes\u001B[39;00m\n\u001B[0;32m     11\u001B[0m node_id_col \u001B[38;5;241m=\u001B[39m \u001B[38;5;124m'\u001B[39m\u001B[38;5;124mstation_id\u001B[39m\u001B[38;5;124m'\u001B[39m\n",
      "\u001B[1;31mNameError\u001B[0m: name 'data' is not defined"
     ]
    }
   ],
   "execution_count": 5
  },
  {
   "metadata": {
    "ExecuteTime": {
     "end_time": "2024-09-02T10:39:10.084572Z",
     "start_time": "2024-09-02T10:39:09.174290Z"
    }
   },
   "cell_type": "code",
   "source": [
    "from codes.utils.create_graph import create_graph_from_dataframe\n",
    "\n",
    "# attributes\n",
    "node_id_col = 'station_id'\n",
    "node_attr = ['name', 'name_zh', 'lon', 'lat',\n",
    "             'line_name', 'line_color', 'line_cycle']\n",
    "edge_attr = ['line_name', 'line_color', 'line_cycle']\n",
    "\n",
    "\n",
    "graph = create_graph_from_dataframe(\n",
    "    data, \n",
    "    node_id_col = 'station_id',\n",
    "    order_col = 'no', \n",
    "    line_name_col = 'line_name', \n",
    "    flag_cycle_col = 'line_cycle', \n",
    "    node_attr_list = node_attr, \n",
    "    edge_attr_list = edge_attr, \n",
    "    space = 'l')\n",
    "\n",
    "from codes.utils.graph_statistic import print_graph_basic_information\n",
    "print_graph_basic_information(graph)"
   ],
   "id": "b8440eca453688cd",
   "outputs": [
    {
     "name": "stderr",
     "output_type": "stream",
     "text": [
      "Creating graph: 100%|██████████| 22/22 [00:00<00:00, 77.32it/s]\n"
     ]
    },
    {
     "name": "stdout",
     "output_type": "stream",
     "text": [
      "\n",
      "Directed: False \n",
      "Number of nodes: 514 \n",
      "Number of edges: 493\n"
     ]
    }
   ],
   "execution_count": 5
  },
  {
   "metadata": {
    "ExecuteTime": {
     "end_time": "2024-09-02T10:39:18.625433Z",
     "start_time": "2024-09-02T10:39:18.317162Z"
    }
   },
   "cell_type": "code",
   "source": [
    "import matplotlib.pyplot as plt\n",
    "\n",
    "fig, ax = plt.subplots(1, 1, figsize=(10, 5))\n",
    "\n",
    "# plot nodes\n",
    "ax.scatter(\n",
    "    node_data['lon'], node_data['lat'], \n",
    "    s=5, \n",
    "    c=node_data['line_color'], marker='o', label='station')\n",
    "\n",
    "\n",
    "# plot edges\n",
    "legend_handles = []\n",
    "legend_labels = []\n",
    "\n",
    "for (node_start, node_end, edge_attr) in graph.edges(data=True):\n",
    "    \n",
    "    x1, y1 = graph.nodes(data=True)[node_start]['lon'], graph.nodes(data=True)[node_start]['lat']\n",
    "    x2, y2 = graph.nodes(data=True)[node_end]['lon'], graph.nodes(data=True)[node_end]['lat']\n",
    "    color = edge_attr['line_color']\n",
    "    label = edge_attr['line_name']\n",
    "\n",
    "    handle = ax.plot([x1, x2], [y1, y2], c=color, \n",
    "                     lw=1.5, alpha=1, label=label)\n",
    "    \n",
    "    if label not in legend_labels:\n",
    "        legend_handles.append(handle[0])\n",
    "        legend_labels.append(label)\n",
    "\n",
    "ax.legend(legend_handles, legend_labels, loc='upper left', bbox_to_anchor=(1, 1))"
   ],
   "id": "9e981c7d8c0d52b6",
   "outputs": [
    {
     "ename": "NameError",
     "evalue": "name 'node_data' is not defined",
     "output_type": "error",
     "traceback": [
      "\u001B[1;31m---------------------------------------------------------------------------\u001B[0m",
      "\u001B[1;31mNameError\u001B[0m                                 Traceback (most recent call last)",
      "Cell \u001B[1;32mIn[6], line 7\u001B[0m\n\u001B[0;32m      3\u001B[0m fig, ax \u001B[38;5;241m=\u001B[39m plt\u001B[38;5;241m.\u001B[39msubplots(\u001B[38;5;241m1\u001B[39m, \u001B[38;5;241m1\u001B[39m, figsize\u001B[38;5;241m=\u001B[39m(\u001B[38;5;241m10\u001B[39m, \u001B[38;5;241m5\u001B[39m))\n\u001B[0;32m      5\u001B[0m \u001B[38;5;66;03m# plot nodes\u001B[39;00m\n\u001B[0;32m      6\u001B[0m ax\u001B[38;5;241m.\u001B[39mscatter(\n\u001B[1;32m----> 7\u001B[0m     \u001B[43mnode_data\u001B[49m[\u001B[38;5;124m'\u001B[39m\u001B[38;5;124mlon\u001B[39m\u001B[38;5;124m'\u001B[39m], node_data[\u001B[38;5;124m'\u001B[39m\u001B[38;5;124mlat\u001B[39m\u001B[38;5;124m'\u001B[39m], \n\u001B[0;32m      8\u001B[0m     s\u001B[38;5;241m=\u001B[39m\u001B[38;5;241m5\u001B[39m, \n\u001B[0;32m      9\u001B[0m     c\u001B[38;5;241m=\u001B[39mnode_data[\u001B[38;5;124m'\u001B[39m\u001B[38;5;124mline_color\u001B[39m\u001B[38;5;124m'\u001B[39m], marker\u001B[38;5;241m=\u001B[39m\u001B[38;5;124m'\u001B[39m\u001B[38;5;124mo\u001B[39m\u001B[38;5;124m'\u001B[39m, label\u001B[38;5;241m=\u001B[39m\u001B[38;5;124m'\u001B[39m\u001B[38;5;124mstation\u001B[39m\u001B[38;5;124m'\u001B[39m)\n\u001B[0;32m     12\u001B[0m \u001B[38;5;66;03m# plot edges\u001B[39;00m\n\u001B[0;32m     13\u001B[0m legend_handles \u001B[38;5;241m=\u001B[39m []\n",
      "\u001B[1;31mNameError\u001B[0m: name 'node_data' is not defined"
     ]
    },
    {
     "data": {
      "text/plain": [
       "<Figure size 1000x500 with 1 Axes>"
      ],
      "image/png": "[encoded data removed]"
     },
     "metadata": {},
     "output_type": "display_data"
    }
   ],
   "execution_count": 6
  },
  {
   "metadata": {
    "ExecuteTime": {
     "end_time": "2024-09-03T02:36:23.502193Z",
     "start_time": "2024-09-03T02:36:23.453815Z"
    }
   },
   "cell_type": "code",
   "source": [
    "transfer_station = data['name'].value_counts()\n",
    "transfer_station = transfer_station[transfer_station > 1].index.tolist()\n",
    "\n",
    "data.query('name in @transfer_station') \\\n",
    "    .sort_values(by=['line_name', 'no']) \\\n",
    "    .drop(columns=['no', 'cumulative_distance', 'station_spacing', 'line_color', 'line_cycle', 'location_gcj02'], axis=1) \\\n",
    "    .to_csv('transfer_station.csv', index=False)"
   ],
   "id": "b9802f684fdb34ab",
   "outputs": [],
   "execution_count": 6
  }
 ],
 "metadata": {
  "kernelspec": {
   "display_name": "Python 3",
   "language": "python",
   "name": "python3"
  },
  "language_info": {
   "codemirror_mode": {
    "name": "ipython",
    "version": 2
   },
   "file_extension": ".py",
   "mimetype": "text/x-python",
   "name": "python",
   "nbconvert_exporter": "python",
   "pygments_lexer": "ipython2",
   "version": "2.7.6"
  }
 },
 "nbformat": 4,
 "nbformat_minor": 5
}
