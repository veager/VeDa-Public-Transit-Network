{
 "cells": [
  {
   "cell_type": "code",
   "id": "initial_id",
   "metadata": {
    "collapsed": true,
    "ExecuteTime": {
     "end_time": "2024-09-03T02:34:51.246459Z",
     "start_time": "2024-09-03T02:34:51.238822Z"
    }
   },
   "source": [
    "import time\n",
    "import copy\n",
    "\n",
    "from pathlib import Path\n",
    "\n",
    "import tqdm"
   ],
   "outputs": [],
   "execution_count": 2
  },
  {
   "metadata": {},
   "cell_type": "markdown",
   "source": "# 1. Request station location",
   "id": "f78bb888f81b67ce"
  },
  {
   "metadata": {
    "ExecuteTime": {
     "end_time": "2024-09-03T02:34:51.746834Z",
     "start_time": "2024-09-03T02:34:51.735334Z"
    }
   },
   "cell_type": "code",
   "source": [
    "def request_metro_station_location(data, city, key):\n",
    "    \n",
    "    from codes.utils.request_data.request_data_amap import geocoding\n",
    "\n",
    "    all_res = []\n",
    "    \n",
    "    for ix, row in tqdm.tqdm(data.iterrows()):\n",
    "        \n",
    "        ln = row['line_name_zh']\n",
    "        sn = row['name_zh']\n",
    "        \n",
    "        # search value\n",
    "        search_value = f'{city}{sn}(地铁站)'\n",
    "    \n",
    "        # request result\n",
    "        time.sleep(0.05)\n",
    "        req_res = geocoding(search_value, city=city, key=key)\n",
    "        \n",
    "        # request matching\n",
    "        for res in req_res:\n",
    "            \n",
    "            # successfully matching\n",
    "            if (res['level'] == '公交地铁站点') and (f'{sn}(地铁站)' in res['formatted_address']):\n",
    "                \n",
    "                final_res = res\n",
    "                # additional information\n",
    "                final_res.update({\n",
    "                    'line_name_zh' : ln,\n",
    "                    'name_zh'      : sn,\n",
    "                    'name'         : row['name'],\n",
    "                    'line_name'    : row['line_name']})\n",
    "                \n",
    "                all_res.append(copy.deepcopy(final_res))\n",
    "                \n",
    "                break\n",
    "    \n",
    "    res = pd.DataFrame(all_res)\n",
    "    \n",
    "    return res"
   ],
   "id": "1a1d025945137c13",
   "outputs": [],
   "execution_count": 3
  },
  {
   "metadata": {},
   "cell_type": "markdown",
   "source": "#### (1) Read station list",
   "id": "2b07a00853b42177"
  },
  {
   "metadata": {
    "ExecuteTime": {
     "end_time": "2024-09-02T12:53:07.830657Z",
     "start_time": "2024-09-02T12:53:05.528552Z"
    }
   },
   "cell_type": "code",
   "source": [
    "from codes.utils.load_data.load_data_metro import load_metro_station_list\n",
    "\n",
    "\n",
    "# load metro station list\n",
    "path = Path.cwd().parent / 'Shanghai/metro_network_shanghai.xlsx'\n",
    "data = load_metro_station_list(path, time_status='current')\n",
    "\n",
    "\n",
    "# load metro station list\n",
    "# path = Path.cwd().parent / 'Suzhou/metro_network_suzhou.xlsx'\n",
    "# data = load_metro_station_list(path, time_status='current')"
   ],
   "id": "db6c3c65c510953d",
   "outputs": [
    {
     "name": "stderr",
     "output_type": "stream",
     "text": [
      "Loading data: 22it [00:01, 11.65it/s]\n"
     ]
    }
   ],
   "execution_count": 3
  },
  {
   "metadata": {},
   "cell_type": "markdown",
   "source": "#### (2) Request station location",
   "id": "751a546320e37fc0"
  },
  {
   "metadata": {},
   "cell_type": "code",
   "outputs": [
    {
     "name": "stderr",
     "output_type": "stream",
     "text": [
      "519it [08:44,  1.01s/it]"
     ]
    },
    {
     "name": "stdout",
     "output_type": "stream",
     "text": [
      "Shape of data: (519, 10)\n"
     ]
    },
    {
     "name": "stderr",
     "output_type": "stream",
     "text": [
      "\n"
     ]
    }
   ],
   "execution_count": 4,
   "source": [
    "key = 'd53f9929db781a22f5710539218ce798'\n",
    "\n",
    "city = '上海市'\n",
    "res = request_metro_station_location(data, city, key)\n",
    "print('Shape of data:', data.shape)\n",
    "\n",
    "res.to_csv('station_location_gcj02_shanghai.csv', index=False)\n",
    "\n",
    "\n",
    "# city = '江苏省苏州市'\n",
    "# res = request_metro_station_location(data, city, key)\n",
    "# print('Shape of data:', data.shape)\n",
    "# \n",
    "# res.to_csv('station_location_gcj02_suzhou.csv', index=False)"
   ],
   "id": "b0bc11ef8aeb8b70"
  },
  {
   "metadata": {
    "ExecuteTime": {
     "end_time": "2024-09-03T10:33:42.419624Z",
     "start_time": "2024-09-03T10:33:41.459302Z"
    }
   },
   "cell_type": "code",
   "source": [
    "from codes.utils.request_data.request_data_amap import geocoding\n",
    "\n",
    "key = 'd53f9929db781a22f5710539218ce798'\n",
    "city = '苏州市'\n",
    "sn = '金鸡墩(地铁站)'\n",
    "\n",
    "search_value = f'{city}{sn}'\n",
    "print(search_value)\n",
    "\n",
    "geocoding(search_value, city=city, key=key)"
   ],
   "id": "18c4764fb0be6d80",
   "outputs": [
    {
     "name": "stdout",
     "output_type": "stream",
     "text": [
      "苏州市金鸡墩(地铁站)\n"
     ]
    },
    {
     "data": {
      "text/plain": [
       "[{'search_value': '苏州市金鸡墩(地铁站)',\n",
       "  'formatted_address': '江苏省苏州市姑苏区金鸡墩(地铁站)',\n",
       "  'country': '中国',\n",
       "  'province': '江苏省',\n",
       "  'city': '苏州市',\n",
       "  'citycode': '0512',\n",
       "  'district': '姑苏区',\n",
       "  'adcode': '320508',\n",
       "  'location': '120.567781,31.333255',\n",
       "  'level': '公交地铁站点'}]"
      ]
     },
     "execution_count": 2,
     "metadata": {},
     "output_type": "execute_result"
    }
   ],
   "execution_count": 2
  },
  {
   "metadata": {},
   "cell_type": "markdown",
   "source": "# 2. Update station location information",
   "id": "451c61f56d734ca0"
  },
  {
   "metadata": {
    "ExecuteTime": {
     "end_time": "2024-09-02T13:27:35.297347Z",
     "start_time": "2024-09-02T13:27:35.286912Z"
    }
   },
   "cell_type": "code",
   "source": [
    "from pathlib import Path\n",
    "\n",
    "import pandas as pd"
   ],
   "id": "27c6b3316107792a",
   "outputs": [],
   "execution_count": 7
  },
  {
   "metadata": {
    "ExecuteTime": {
     "end_time": "2024-09-02T13:27:35.871628Z",
     "start_time": "2024-09-02T13:27:35.855175Z"
    }
   },
   "cell_type": "code",
   "source": [
    "city = 'shanghai'\n",
    "data_folder = Path.cwd().parent / city\n",
    "\n",
    "# excel file\n",
    "excel_path = data_folder / f'metro_network_{city}.xlsx'\n",
    "\n",
    "\n",
    "# location information\n",
    "path = data_folder / f'station_location_gcj02_{city}.csv'\n",
    "loc = pd.read_csv(path)[['location', 'line_name', 'name']] \\\n",
    "        .rename(columns={'location':'location_gcj02'})"
   ],
   "id": "b2912aa0984ec11f",
   "outputs": [],
   "execution_count": 8
  },
  {
   "metadata": {
    "ExecuteTime": {
     "end_time": "2024-09-02T13:27:44.534416Z",
     "start_time": "2024-09-02T13:27:43.547453Z"
    }
   },
   "cell_type": "code",
   "source": [
    "# load all excel data\n",
    "data_all = pd.read_excel(excel_path, sheet_name=None)\n",
    "# line info\n",
    "line_info = data_all['line_info']\n",
    "\n",
    "sheet_name_li = line_info['sheet_name'].tolist()\n",
    "\n",
    "with pd.ExcelWriter(excel_path, mode='a', if_sheet_exists='replace') as writer:\n",
    "    \n",
    "    for sheet_name in sheet_name_li:\n",
    "        \n",
    "        data = data_all[sheet_name] \\\n",
    "                .assign(sheet_name=sheet_name) \\\n",
    "                .merge(line_info[['sheet_name', 'line_name', 'line_name_zh']], on='sheet_name', how='left', validate='many_to_one')\n",
    "        \n",
    "        # merge location information\n",
    "        data = data.merge(loc, on=['line_name', 'name'], how='left', validate='one_to_one') \\\n",
    "                   .drop(columns=['sheet_name', 'line_name', 'line_name_zh'], axis=1)\n",
    "        \n",
    "        # update sheet \n",
    "        data.to_excel(writer, index=False, sheet_name=sheet_name)"
   ],
   "id": "52357e1dae0e80d0",
   "outputs": [],
   "execution_count": 9
  },
  {
   "metadata": {},
   "cell_type": "code",
   "outputs": [],
   "execution_count": null,
   "source": "",
   "id": "9293435f2c5b9ad1"
  }
 ],
 "metadata": {
  "kernelspec": {
   "display_name": "Python 3",
   "language": "python",
   "name": "python3"
  },
  "language_info": {
   "codemirror_mode": {
    "name": "ipython",
    "version": 2
   },
   "file_extension": ".py",
   "mimetype": "text/x-python",
   "name": "python",
   "nbconvert_exporter": "python",
   "pygments_lexer": "ipython2",
   "version": "2.7.6"
  }
 },
 "nbformat": 4,
 "nbformat_minor": 5
}
