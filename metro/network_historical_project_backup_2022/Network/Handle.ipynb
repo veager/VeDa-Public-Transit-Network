{
 "cells": [
  {
   "cell_type": "markdown",
   "metadata": {
    "id": "L3hNXdCqRFq9"
   },
   "source": [
    "# 1 Transfer Stations\n",
    "\n",
    "- `MRT-Transfer-Stations-Raw.csv`\n",
    "\n",
    "- `MRT-Transfer-Stations.csv`"
   ]
  },
  {
   "cell_type": "code",
   "execution_count": 28,
   "metadata": {
    "id": "Ptxs8x3PRP-c"
   },
   "outputs": [],
   "source": [
    "import sys\n",
    "import itertools\n",
    "import pandas as pd\n",
    "\n",
    "data = pd.read_csv('MRT-Transfer-Stations-Raw.csv', skip_blank_lines=True, comment='#')\n",
    "# data['closed'] = ''\n",
    "# data.to_csv('MRT-Transfer-Stations-Raw.csv', index=False)\n",
    "\n",
    "data['num'] = data['all_station_codes'].str.split(' ').str.len()\n",
    "\n",
    "data['all_station_codes'] = data['all_station_codes'].apply(\n",
    "    lambda x: ' '.join(list(sorted(x.split(' '))))\n",
    "    )\n",
    "\n",
    "data = data.drop_duplicates(ignore_index=True)\n",
    "\n",
    "\n",
    "try:\n",
    "    # check that whether there exists repeated station\n",
    "    stn_codes = data['all_station_codes'].str.split(' ').to_list()\n",
    "    all_stn = list(itertools.chain.from_iterable(stn_codes)) \n",
    "\n",
    "    assert len(all_stn) == len(set(all_stn))\n",
    "except:\n",
    "    print(len(all_stn), len(set(all_stn)))\n",
    "    sys.exit(0)\n",
    "    pass\n",
    "\n",
    "data.to_csv('MRT-Transfer-Stations.csv', index=False)"
   ]
  },
  {
   "cell_type": "markdown",
   "metadata": {
    "id": "MAJFzdq_Rw0t"
   },
   "source": [
    "# 2 Extract MRT Line"
   ]
  },
  {
   "cell_type": "code",
   "execution_count": 29,
   "metadata": {
    "colab": {
     "base_uri": "https://localhost:8080/"
    },
    "id": "BNUQkzZNUbpQ",
    "outputId": "f9376988-3574-497e-b1ae-f0ef78bf81fe"
   },
   "outputs": [
    {
     "name": "stdout",
     "output_type": "stream",
     "text": [
      "Looking in indexes: https://pypi.org/simple, https://us-python.pkg.dev/colab-wheels/public/simple/\n",
      "Requirement already satisfied: geopandas in /usr/local/lib/python3.7/dist-packages (0.10.2)\n",
      "Requirement already satisfied: fiona>=1.8 in /usr/local/lib/python3.7/dist-packages (from geopandas) (1.8.21)\n",
      "Requirement already satisfied: pandas>=0.25.0 in /usr/local/lib/python3.7/dist-packages (from geopandas) (1.3.5)\n",
      "Requirement already satisfied: shapely>=1.6 in /usr/local/lib/python3.7/dist-packages (from geopandas) (1.8.2)\n",
      "Requirement already satisfied: pyproj>=2.2.0 in /usr/local/lib/python3.7/dist-packages (from geopandas) (3.2.1)\n",
      "Requirement already satisfied: setuptools in /usr/local/lib/python3.7/dist-packages (from fiona>=1.8->geopandas) (57.4.0)\n",
      "Requirement already satisfied: attrs>=17 in /usr/local/lib/python3.7/dist-packages (from fiona>=1.8->geopandas) (21.4.0)\n",
      "Requirement already satisfied: munch in /usr/local/lib/python3.7/dist-packages (from fiona>=1.8->geopandas) (2.5.0)\n",
      "Requirement already satisfied: six>=1.7 in /usr/local/lib/python3.7/dist-packages (from fiona>=1.8->geopandas) (1.15.0)\n",
      "Requirement already satisfied: cligj>=0.5 in /usr/local/lib/python3.7/dist-packages (from fiona>=1.8->geopandas) (0.7.2)\n",
      "Requirement already satisfied: certifi in /usr/local/lib/python3.7/dist-packages (from fiona>=1.8->geopandas) (2022.6.15)\n",
      "Requirement already satisfied: click-plugins>=1.0 in /usr/local/lib/python3.7/dist-packages (from fiona>=1.8->geopandas) (1.1.1)\n",
      "Requirement already satisfied: click>=4.0 in /usr/local/lib/python3.7/dist-packages (from fiona>=1.8->geopandas) (7.1.2)\n",
      "Requirement already satisfied: python-dateutil>=2.7.3 in /usr/local/lib/python3.7/dist-packages (from pandas>=0.25.0->geopandas) (2.8.2)\n",
      "Requirement already satisfied: numpy>=1.17.3 in /usr/local/lib/python3.7/dist-packages (from pandas>=0.25.0->geopandas) (1.21.6)\n",
      "Requirement already satisfied: pytz>=2017.3 in /usr/local/lib/python3.7/dist-packages (from pandas>=0.25.0->geopandas) (2022.1)\n"
     ]
    }
   ],
   "source": [
    "! pip install geopandas"
   ]
  },
  {
   "cell_type": "code",
   "execution_count": 30,
   "metadata": {
    "id": "KSLdR3OvSZnj"
   },
   "outputs": [],
   "source": [
    "import sys\n",
    "import itertools\n",
    "\n",
    "import pandas as pd\n",
    "import geopandas as gpd\n",
    "from shapely.geometry import LineString"
   ]
  },
  {
   "cell_type": "code",
   "execution_count": 31,
   "metadata": {
    "id": "c1Ci0OIWRoeh"
   },
   "outputs": [],
   "source": [
    "def obtain_line_segement_geo(start_stn, end_stn, stn_gpd):\n",
    "    '''\n",
    "\n",
    "    Args:\n",
    "        start_stn (str): start staion code.\n",
    "        end_stn (str): end station code.\n",
    "        stn_gpd (geopandas.GeoDataFrame): DESCRIPTION.\n",
    "\n",
    "    Returns:\n",
    "        line (TYPE): DESCRIPTION.\n",
    "\n",
    "    '''\n",
    "    stn_list = stn_gpd['all_station_codes'].str.split(' ').to_list()\n",
    "    \n",
    "    start_geo = stn_gpd[[start_stn in x for x in stn_list]]\n",
    "    end_geo   = stn_gpd[[end_stn in x for x in stn_list]] \n",
    "    \n",
    "    assert (start_geo.shape[0] == 1) and (end_geo.shape[0] == 1)\n",
    "    \n",
    "    start_geo = start_geo.squeeze()\n",
    "    end_geo   = end_geo.squeeze()\n",
    "    \n",
    "    line = LineString([start_geo['geometry'], end_geo['geometry']])\n",
    "    return line"
   ]
  },
  {
   "cell_type": "markdown",
   "metadata": {
    "id": "GJrNSRy6R-4b"
   },
   "source": [
    "## 2.1 Read Data"
   ]
  },
  {
   "cell_type": "code",
   "execution_count": 32,
   "metadata": {
    "colab": {
     "base_uri": "https://localhost:8080/",
     "height": 72
    },
    "id": "905SF9qxUOjv",
    "outputId": "a36b3eb8-7fc7-4eec-8c86-febbffe4fce4"
   },
   "outputs": [
    {
     "data": {
      "application/vnd.google.colaboratory.intrinsic+json": {
       "type": "string"
      },
      "text/plain": [
       "'\\nline_df = pd.read_csv(\\'MRT-Line-Codes.csv\\', skip_blank_lines=True)\\n\\nstn_df = pd.read_csv(\\'MRT-Station-Codes.csv\\', comment=\\'#\\', skip_blank_lines=True)\\n\\ntransfer_df = pd.read_csv(\\'MRT-Transfer-Stations.csv\\', comment=\\'#\\', skip_blank_lines=True)\\n\\nline_com_df = pd.read_csv(\\'MRT-Loop-Line-Complement.csv\\', skip_blank_lines=True)\\n\\nstn_gpd = gpd.read_file(\"zip://TrainStation_Jan2022.zip!TrainStation_Jan2022/MRTLRTStnPtt.shp\")\\n'"
      ]
     },
     "execution_count": 32,
     "metadata": {},
     "output_type": "execute_result"
    }
   ],
   "source": [
    "'''\n",
    "line_df = pd.read_csv('MRT-Line-Codes.csv', skip_blank_lines=True)\n",
    "\n",
    "stn_df = pd.read_csv('MRT-Station-Codes.csv', comment='#', skip_blank_lines=True)\n",
    "\n",
    "transfer_df = pd.read_csv('MRT-Transfer-Stations.csv', comment='#', skip_blank_lines=True)\n",
    "\n",
    "line_com_df = pd.read_csv('MRT-Loop-Line-Complement.csv', skip_blank_lines=True)\n",
    "\n",
    "stn_gpd = gpd.read_file(\"zip://TrainStation_Jan2022.zip!TrainStation_Jan2022/MRTLRTStnPtt.shp\")\n",
    "'''"
   ]
  },
  {
   "cell_type": "code",
   "execution_count": 33,
   "metadata": {
    "id": "pJ2OXCOfR7Vd"
   },
   "outputs": [],
   "source": [
    "line_df = pd.read_csv('https://raw.githubusercontent.com/veager/GeoDatabase-Singapore/main/MRT-Train/Network/MRT-Line-Codes.csv', \n",
    "                     comment='#', skip_blank_lines=True)\n",
    "\n",
    "stn_df = pd.read_csv('https://raw.githubusercontent.com/veager/GeoDatabase-Singapore/main/MRT-Train/Network/MRT-Station-Codes.csv', \n",
    "                     comment='#', skip_blank_lines=True)\n",
    "\n",
    "transfer_df = pd.read_csv('https://raw.githubusercontent.com/veager/GeoDatabase-Singapore/main/MRT-Train/Network/MRT-Transfer-Stations.csv', \n",
    "                          comment='#', skip_blank_lines=True)\n",
    "\n",
    "line_com_df = pd.read_csv('https://raw.githubusercontent.com/veager/GeoDatabase-Singapore/main/MRT-Train/Network/MRT-Loop-Line-Complement.csv', \n",
    "                          skip_blank_lines=True)\n",
    "\n",
    "stn_gpd = gpd.read_file(\"zip://TrainStation_Jan2022.zip!TrainStation_Jan2022/MRTLRTStnPtt.shp\")"
   ]
  },
  {
   "cell_type": "markdown",
   "metadata": {
    "id": "v7AGyLlCSHXj"
   },
   "source": [
    "## 2.2 Parameters"
   ]
  },
  {
   "cell_type": "code",
   "execution_count": 34,
   "metadata": {
    "id": "_Fp3-vypR0at"
   },
   "outputs": [],
   "source": [
    "# CRS\n",
    "CRS = stn_gpd.crs\n",
    "\n",
    "# closed station codes\n",
    "CLOSED_STN_CODES = stn_df[stn_df['closed'] == True]['stn_code'].to_list()\n",
    "# ['BP14', 'DT4', 'CC18', 'PW2']\n",
    "\n",
    "# transfer station code\n",
    "TRANSFER_STN_CODE = transfer_df['all_station_codes'].str.split(' ').to_list()\n",
    "_all_stn_codes = list(itertools.chain.from_iterable(TRANSFER_STN_CODE))\n",
    "assert len(_all_stn_codes) == len(set(_all_stn_codes))"
   ]
  },
  {
   "cell_type": "markdown",
   "metadata": {
    "id": "AozwZrWESO6x"
   },
   "source": [
    "## 2.3 Station Geographic Location\n",
    "\n",
    "- `TrainStation.zip`"
   ]
  },
  {
   "cell_type": "code",
   "execution_count": 35,
   "metadata": {
    "colab": {
     "base_uri": "https://localhost:8080/",
     "height": 240
    },
    "id": "SAx4GzEHS4vf",
    "outputId": "b31f93de-fd6e-4c93-d0fe-d3303d83a157"
   },
   "outputs": [
    {
     "data": {
      "text/plain": [
       "<matplotlib.axes._subplots.AxesSubplot at 0x7f4a0b707c90>"
      ]
     },
     "execution_count": 35,
     "metadata": {},
     "output_type": "execute_result"
    },
    {
     "data": {
      "image/png": "[encoded data removed]",
      "text/plain": [
       "<Figure size 432x288 with 1 Axes>"
      ]
     },
     "metadata": {
      "needs_background": "light"
     },
     "output_type": "display_data"
    }
   ],
   "source": [
    "# handle the \".shp\"\n",
    "stn_gpd['all_station_codes'] = ''\n",
    "\n",
    "for row_ix, row in stn_gpd.iterrows():\n",
    "    \n",
    "    stn_code_li = stn_gpd.loc[row_ix, 'STN_NO'].split('/')\n",
    "    \n",
    "    if set(stn_code_li).issubset(set(CLOSED_STN_CODES)):\n",
    "        # print(stn_code_li)\n",
    "        stn_gpd.loc[row_ix, 'all_station_codes'] = 'closed_station'\n",
    "    else:\n",
    "        # find the \n",
    "        stn_code = stn_code_li[0]\n",
    "        ix = [stn_code in x for x in TRANSFER_STN_CODE]\n",
    "        ix = ix.index(True)  \n",
    "        # print(ix)\n",
    "        stn_gpd.loc[row_ix, 'all_station_codes'] = ' '.join(TRANSFER_STN_CODE[ix])\n",
    "\n",
    "# drop closed station from \"stn_gpd\"\n",
    "stn_gpd = stn_gpd[~ (stn_gpd['all_station_codes'] == 'closed_station')]\n",
    "\n",
    "# the location transfer station will be the center of \n",
    "# the same name stations in the between lines\n",
    "stn_gpd = stn_gpd.dissolve('all_station_codes', aggfunc='first', as_index=False)\n",
    "stn_gpd['geometry'] = stn_gpd['geometry'].centroid\n",
    "stn_gpd = stn_gpd.reset_index(drop=True)\n",
    "\n",
    "stn_gpd.plot()"
   ]
  },
  {
   "cell_type": "markdown",
   "metadata": {
    "id": "1darcGQ3SmmT"
   },
   "source": [
    "## 2.4 Station Codes\n",
    "\n",
    "Merge *Station Codes* and *Line Codes*\n",
    "\n",
    "- `MRT-Station-Codes.csv`\n",
    "\n",
    "- `MRT-Line-Codes.csv`"
   ]
  },
  {
   "cell_type": "code",
   "execution_count": 36,
   "metadata": {
    "colab": {
     "base_uri": "https://localhost:8080/",
     "height": 515
    },
    "id": "TWgo30WdR79-",
    "outputId": "520feac3-efc5-4659-8d7f-76452272857f"
   },
   "outputs": [
    {
     "name": "stderr",
     "output_type": "stream",
     "text": [
      "/usr/local/lib/python3.7/dist-packages/pandas/core/frame.py:4913: SettingWithCopyWarning: \n",
      "A value is trying to be set on a copy of a slice from a DataFrame\n",
      "\n",
      "See the caveats in the documentation: https://pandas.pydata.org/pandas-docs/stable/user_guide/indexing.html#returning-a-view-versus-a-copy\n",
      "  errors=errors,\n"
     ]
    },
    {
     "data": {
      "text/html": [
       "\n",
       "  <div id=\"df-38827ead-f30d-4882-adce-8694b1e1fab3\">\n",
       "    <div class=\"colab-df-container\">\n",
       "      <div>\n",
       "<style scoped>\n",
       "    .dataframe tbody tr th:only-of-type {\n",
       "        vertical-align: middle;\n",
       "    }\n",
       "\n",
       "    .dataframe tbody tr th {\n",
       "        vertical-align: top;\n",
       "    }\n",
       "\n",
       "    .dataframe thead th {\n",
       "        text-align: right;\n",
       "    }\n",
       "</style>\n",
       "<table border=\"1\" class=\"dataframe\">\n",
       "  <thead>\n",
       "    <tr style=\"text-align: right;\">\n",
       "      <th></th>\n",
       "      <th>stn_code</th>\n",
       "      <th>mrt_station_english</th>\n",
       "      <th>line_name</th>\n",
       "      <th>line_code</th>\n",
       "    </tr>\n",
       "  </thead>\n",
       "  <tbody>\n",
       "    <tr>\n",
       "      <th>0</th>\n",
       "      <td>NS1</td>\n",
       "      <td>Jurong East</td>\n",
       "      <td>North South Line</td>\n",
       "      <td>NSL</td>\n",
       "    </tr>\n",
       "    <tr>\n",
       "      <th>1</th>\n",
       "      <td>NS2</td>\n",
       "      <td>Bukit Batok</td>\n",
       "      <td>North South Line</td>\n",
       "      <td>NSL</td>\n",
       "    </tr>\n",
       "    <tr>\n",
       "      <th>2</th>\n",
       "      <td>NS3</td>\n",
       "      <td>Bukit Gombak</td>\n",
       "      <td>North South Line</td>\n",
       "      <td>NSL</td>\n",
       "    </tr>\n",
       "    <tr>\n",
       "      <th>3</th>\n",
       "      <td>NS4</td>\n",
       "      <td>Choa Chu Kang</td>\n",
       "      <td>North South Line</td>\n",
       "      <td>NSL</td>\n",
       "    </tr>\n",
       "    <tr>\n",
       "      <th>4</th>\n",
       "      <td>NS5</td>\n",
       "      <td>Yew Tee</td>\n",
       "      <td>North South Line</td>\n",
       "      <td>NSL</td>\n",
       "    </tr>\n",
       "    <tr>\n",
       "      <th>...</th>\n",
       "      <td>...</td>\n",
       "      <td>...</td>\n",
       "      <td>...</td>\n",
       "      <td>...</td>\n",
       "    </tr>\n",
       "    <tr>\n",
       "      <th>191</th>\n",
       "      <td>TE5</td>\n",
       "      <td>Lentor</td>\n",
       "      <td>Thomson-East Coast Line</td>\n",
       "      <td>TEL</td>\n",
       "    </tr>\n",
       "    <tr>\n",
       "      <th>192</th>\n",
       "      <td>TE6</td>\n",
       "      <td>Mayflower</td>\n",
       "      <td>Thomson-East Coast Line</td>\n",
       "      <td>TEL</td>\n",
       "    </tr>\n",
       "    <tr>\n",
       "      <th>193</th>\n",
       "      <td>TE7</td>\n",
       "      <td>Bright Hill</td>\n",
       "      <td>Thomson-East Coast Line</td>\n",
       "      <td>TEL</td>\n",
       "    </tr>\n",
       "    <tr>\n",
       "      <th>194</th>\n",
       "      <td>TE8</td>\n",
       "      <td>Upper Thomson</td>\n",
       "      <td>Thomson-East Coast Line</td>\n",
       "      <td>TEL</td>\n",
       "    </tr>\n",
       "    <tr>\n",
       "      <th>195</th>\n",
       "      <td>TE9</td>\n",
       "      <td>Caldecott</td>\n",
       "      <td>Thomson-East Coast Line</td>\n",
       "      <td>TEL</td>\n",
       "    </tr>\n",
       "  </tbody>\n",
       "</table>\n",
       "<p>196 rows × 4 columns</p>\n",
       "</div>\n",
       "      <button class=\"colab-df-convert\" onclick=\"convertToInteractive('df-38827ead-f30d-4882-adce-8694b1e1fab3')\"\n",
       "              title=\"Convert this dataframe to an interactive table.\"\n",
       "              style=\"display:none;\">\n",
       "        \n",
       "  <svg xmlns=\"http://www.w3.org/2000/svg\" height=\"24px\"viewBox=\"0 0 24 24\"\n",
       "       width=\"24px\">\n",
       "    <path d=\"M0 0h24v24H0V0z\" fill=\"none\"/>\n",
       "    <path d=\"M18.56 5.44l.94 2.06.94-2.06 2.06-.94-2.06-.94-.94-2.06-.94 2.06-2.06.94zm-11 1L8.5 8.5l.94-2.06 2.06-.94-2.06-.94L8.5 2.5l-.94 2.06-2.06.94zm10 10l.94 2.06.94-2.06 2.06-.94-2.06-.94-.94-2.06-.94 2.06-2.06.94z\"/><path d=\"M17.41 7.96l-1.37-1.37c-.4-.4-.92-.59-1.43-.59-.52 0-1.04.2-1.43.59L10.3 9.45l-7.72 7.72c-.78.78-.78 2.05 0 2.83L4 21.41c.39.39.9.59 1.41.59.51 0 1.02-.2 1.41-.59l7.78-7.78 2.81-2.81c.8-.78.8-2.07 0-2.86zM5.41 20L4 18.59l7.72-7.72 1.47 1.35L5.41 20z\"/>\n",
       "  </svg>\n",
       "      </button>\n",
       "      \n",
       "  <style>\n",
       "    .colab-df-container {\n",
       "      display:flex;\n",
       "      flex-wrap:wrap;\n",
       "      gap: 12px;\n",
       "    }\n",
       "\n",
       "    .colab-df-convert {\n",
       "      background-color: #E8F0FE;\n",
       "      border: none;\n",
       "      border-radius: 50%;\n",
       "      cursor: pointer;\n",
       "      display: none;\n",
       "      fill: #1967D2;\n",
       "      height: 32px;\n",
       "      padding: 0 0 0 0;\n",
       "      width: 32px;\n",
       "    }\n",
       "\n",
       "    .colab-df-convert:hover {\n",
       "      background-color: #E2EBFA;\n",
       "      box-shadow: 0px 1px 2px rgba(60, 64, 67, 0.3), 0px 1px 3px 1px rgba(60, 64, 67, 0.15);\n",
       "      fill: #174EA6;\n",
       "    }\n",
       "\n",
       "    [theme=dark] .colab-df-convert {\n",
       "      background-color: #3B4455;\n",
       "      fill: #D2E3FC;\n",
       "    }\n",
       "\n",
       "    [theme=dark] .colab-df-convert:hover {\n",
       "      background-color: #434B5C;\n",
       "      box-shadow: 0px 1px 3px 1px rgba(0, 0, 0, 0.15);\n",
       "      filter: drop-shadow(0px 1px 2px rgba(0, 0, 0, 0.3));\n",
       "      fill: #FFFFFF;\n",
       "    }\n",
       "  </style>\n",
       "\n",
       "      <script>\n",
       "        const buttonEl =\n",
       "          document.querySelector('#df-38827ead-f30d-4882-adce-8694b1e1fab3 button.colab-df-convert');\n",
       "        buttonEl.style.display =\n",
       "          google.colab.kernel.accessAllowed ? 'block' : 'none';\n",
       "\n",
       "        async function convertToInteractive(key) {\n",
       "          const element = document.querySelector('#df-38827ead-f30d-4882-adce-8694b1e1fab3');\n",
       "          const dataTable =\n",
       "            await google.colab.kernel.invokeFunction('convertToInteractive',\n",
       "                                                     [key], {});\n",
       "          if (!dataTable) return;\n",
       "\n",
       "          const docLinkHtml = 'Like what you see? Visit the ' +\n",
       "            '<a target=\"_blank\" href=https://colab.research.google.com/notebooks/data_table.ipynb>data table notebook</a>'\n",
       "            + ' to learn more about interactive tables.';\n",
       "          element.innerHTML = '';\n",
       "          dataTable['output_type'] = 'display_data';\n",
       "          await google.colab.output.renderOutput(dataTable, element);\n",
       "          const docLink = document.createElement('div');\n",
       "          docLink.innerHTML = docLinkHtml;\n",
       "          element.appendChild(docLink);\n",
       "        }\n",
       "      </script>\n",
       "    </div>\n",
       "  </div>\n",
       "  "
      ],
      "text/plain": [
       "    stn_code mrt_station_english                line_name line_code\n",
       "0        NS1         Jurong East         North South Line       NSL\n",
       "1        NS2         Bukit Batok         North South Line       NSL\n",
       "2        NS3        Bukit Gombak         North South Line       NSL\n",
       "3        NS4       Choa Chu Kang         North South Line       NSL\n",
       "4        NS5             Yew Tee         North South Line       NSL\n",
       "..       ...                 ...                      ...       ...\n",
       "191      TE5              Lentor  Thomson-East Coast Line       TEL\n",
       "192      TE6           Mayflower  Thomson-East Coast Line       TEL\n",
       "193      TE7         Bright Hill  Thomson-East Coast Line       TEL\n",
       "194      TE8       Upper Thomson  Thomson-East Coast Line       TEL\n",
       "195      TE9           Caldecott  Thomson-East Coast Line       TEL\n",
       "\n",
       "[196 rows x 4 columns]"
      ]
     },
     "execution_count": 36,
     "metadata": {},
     "output_type": "execute_result"
    }
   ],
   "source": [
    "# drop closed station from \"stn_df\" data\n",
    "stn_df = stn_df[~ (stn_df['closed'] == True)]\n",
    "stn_df.reset_index(drop=True, inplace=True)\n",
    "stn_df.drop(['mrt_line_english', 'openning_date', 'closed_date', 'closed'], axis=1, inplace=True)\n",
    "\n",
    "stn_df = stn_df.merge(right = line_df[['line_name', 'line_code']], \n",
    "                      on ='line_name', how = 'left')\n",
    "\n",
    "stn_df"
   ]
  },
  {
   "cell_type": "markdown",
   "metadata": {
    "id": "l0Zj9p95VzO9"
   },
   "source": [
    "## 2.5 Creat Line Layer"
   ]
  },
  {
   "cell_type": "code",
   "execution_count": 37,
   "metadata": {
    "id": "aa-HnSBrVyrB"
   },
   "outputs": [],
   "source": [
    "line_gdf = pd.DataFrame(columns = ['start', 'end', 'line_name', 'line_code', 'geometry'])\n",
    "\n",
    "for line_name, group in stn_df.groupby(by='line_name'):\n",
    "    # print(line_name)\n",
    "    group = group.reset_index(drop=True)\n",
    "    \n",
    "    line_code = group.loc[0, 'line_code']\n",
    "    \n",
    "    for i in range(group.shape[0] - 1):\n",
    "        \n",
    "        start_stn = group.loc[i,   'stn_code']\n",
    "        end_stn   = group.loc[i+1, 'stn_code']\n",
    "        \n",
    "        line_geo = obtain_line_segement_geo(start_stn, end_stn, stn_gpd)\n",
    "        line_gdf = line_gdf.append({'start': start_stn, 'end': end_stn, 'line_name': line_name, 'line_code': line_code, 'geometry': line_geo.wkt}, \n",
    "                                   ignore_index=True)\n",
    "    \n",
    "    # complement line segment for loop lines\n",
    "    if line_name in line_com_df['line_name'].to_list():\n",
    "        # print(line_name)\n",
    "        start_stn = line_com_df[line_com_df['line_name'] == line_name].squeeze()['start_station']\n",
    "        end_stn   = line_com_df[line_com_df['line_name'] == line_name].squeeze()['end_station']\n",
    "     \n",
    "        line_geo = obtain_line_segement_geo(start_stn, end_stn, stn_gpd)\n",
    "        line_gdf = line_gdf.append({'start': start_stn, 'end': end_stn, 'line_name': line_name, 'line_code': line_code, 'geometry': line_geo.wkt}, \n",
    "                                   ignore_index=True)\n",
    "\n",
    "line_gdf = gpd.GeoDataFrame(\n",
    "    data = line_gdf, \n",
    "    crs = CRS, \n",
    "    geometry = gpd.GeoSeries.from_wkt(line_gdf['geometry']))"
   ]
  },
  {
   "cell_type": "code",
   "execution_count": 38,
   "metadata": {
    "colab": {
     "base_uri": "https://localhost:8080/",
     "height": 240
    },
    "id": "jwqBOaeXWLl1",
    "outputId": "39ca56aa-b625-4f46-8761-a0fbe2b57e7d"
   },
   "outputs": [
    {
     "data": {
      "text/plain": [
       "<matplotlib.axes._subplots.AxesSubplot at 0x7f4a0bcfc410>"
      ]
     },
     "execution_count": 38,
     "metadata": {},
     "output_type": "execute_result"
    },
    {
     "data": {
      "image/png": "[encoded data removed]",
      "text/plain": [
       "<Figure size 432x288 with 1 Axes>"
      ]
     },
     "metadata": {
      "needs_background": "light"
     },
     "output_type": "display_data"
    }
   ],
   "source": [
    "line_gdf.plot()"
   ]
  },
  {
   "cell_type": "markdown",
   "metadata": {
    "id": "VNg-J3emWS0l"
   },
   "source": [
    "Save file"
   ]
  },
  {
   "cell_type": "code",
   "execution_count": 39,
   "metadata": {
    "id": "_UV698oxWUSf"
   },
   "outputs": [],
   "source": [
    "line_all_gdf = line_gdf.dissolve('line_name', as_index=False)\n",
    "\n",
    "line_all_gdf.to_file('data/MRT_line.shp')\n",
    "line_gdf.to_file('data/MRT_line_segement.shp')\n",
    "stn_gpd.to_file('data/MRT_station.shp')"
   ]
  }
 ],
 "metadata": {
  "colab": {
   "authorship_tag": "ABX9TyMnDhnPkt30IDIn72eIlcuI",
   "collapsed_sections": [],
   "name": "Handle.ipynb",
   "provenance": [],
   "toc_visible": true
  },
  "kernelspec": {
   "display_name": "Python 3 (ipykernel)",
   "language": "python",
   "name": "python3"
  },
  "language_info": {
   "codemirror_mode": {
    "name": "ipython",
    "version": 3
   },
   "file_extension": ".py",
   "mimetype": "text/x-python",
   "name": "python",
   "nbconvert_exporter": "python",
   "pygments_lexer": "ipython3",
   "version": "3.9.13"
  }
 },
 "nbformat": 4,
 "nbformat_minor": 4
}
